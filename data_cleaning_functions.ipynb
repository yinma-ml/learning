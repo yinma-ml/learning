{
 "cells": [
  {
   "cell_type": "code",
   "execution_count": 9,
   "id": "66881bcb",
   "metadata": {},
   "outputs": [],
   "source": [
    "import pandas as pd\n",
    "import re\n",
    "\n",
    "def process_string_column(df, column_name, new_column_name):\n",
    "    # Copy the dataframe to avoid modifying the original\n",
    "    df_processed = df.copy()\n",
    "\n",
    "    # Step 1: Replace all punctuations with whitespace\n",
    "    df_processed[new_column_name] = df_processed[column_name].str.replace(r'[^\\w\\s]', ' ')\n",
    "\n",
    "    # Step 2: Replace 'the' with ' the ' (case-insensitive)\n",
    "    df_processed[new_column_name] = df_processed[new_column_name].str.replace(r'\\bthe\\b', ' the ', flags=re.IGNORECASE)\n",
    "\n",
    "    # Step 3: Replace words containing 'colleague' with 'coll' (case-insensitive)\n",
    "    df_processed[new_column_name] = df_processed[new_column_name].str.replace(r'\\b\\w*colleague\\w*\\b', 'coll', flags=re.IGNORECASE)\n",
    "\n",
    "    # Step 4: Replace words containing 'communit' with 'comm' (case-insensitive)\n",
    "    df_processed[new_column_name] = df_processed[new_column_name].str.replace(r'\\b\\w*communit\\w*\\b', 'comm', flags=re.IGNORECASE)\n",
    "\n",
    "    # Remove extra spaces between words\n",
    "    df_processed[new_column_name] = df_processed[new_column_name].str.replace(r'\\s+', ' ')\n",
    "\n",
    "    return df_processed\n"
   ]
  },
  {
   "cell_type": "code",
   "execution_count": 12,
   "id": "c8f98969",
   "metadata": {},
   "outputs": [
    {
     "name": "stdout",
     "output_type": "stream",
     "text": [
      "                           text_column          processed_column\n",
      "0  Hello, the Colleagues    community!      Hello the coll comm \n",
      "1            This  is the test string.  This is the test string \n",
      "2        this one is empty communities    this one is empty comm\n"
     ]
    },
    {
     "name": "stderr",
     "output_type": "stream",
     "text": [
      "C:\\Users\\myin9\\AppData\\Local\\Temp\\ipykernel_19336\\1771463772.py:9: FutureWarning: The default value of regex will change from True to False in a future version.\n",
      "  df_processed[new_column_name] = df_processed[column_name].str.replace(r'[^\\w\\s]', ' ')\n",
      "C:\\Users\\myin9\\AppData\\Local\\Temp\\ipykernel_19336\\1771463772.py:12: FutureWarning: The default value of regex will change from True to False in a future version.\n",
      "  df_processed[new_column_name] = df_processed[new_column_name].str.replace(r'\\bthe\\b', ' the ', flags=re.IGNORECASE)\n",
      "C:\\Users\\myin9\\AppData\\Local\\Temp\\ipykernel_19336\\1771463772.py:15: FutureWarning: The default value of regex will change from True to False in a future version.\n",
      "  df_processed[new_column_name] = df_processed[new_column_name].str.replace(r'\\b\\w*colleague\\w*\\b', 'coll', flags=re.IGNORECASE)\n",
      "C:\\Users\\myin9\\AppData\\Local\\Temp\\ipykernel_19336\\1771463772.py:18: FutureWarning: The default value of regex will change from True to False in a future version.\n",
      "  df_processed[new_column_name] = df_processed[new_column_name].str.replace(r'\\b\\w*communit\\w*\\b', 'comm', flags=re.IGNORECASE)\n",
      "C:\\Users\\myin9\\AppData\\Local\\Temp\\ipykernel_19336\\1771463772.py:21: FutureWarning: The default value of regex will change from True to False in a future version.\n",
      "  df_processed[new_column_name] = df_processed[new_column_name].str.replace(r'\\s+', ' ')\n"
     ]
    }
   ],
   "source": [
    "# Example dataframe\n",
    "data = {'text_column': ['Hello, the Colleagues    community!', 'This  is the test string.', ' this one is empty communities']}\n",
    "df = pd.DataFrame(data)\n",
    "\n",
    "# Process the string column\n",
    "# df_processed = process_string_column(df, 'text_column')\n",
    "df_processed = process_string_column(df, 'text_column', 'processed_column')\n",
    "\n",
    "\n",
    "# Print the processed dataframe\n",
    "print(df_processed)\n"
   ]
  },
  {
   "cell_type": "code",
   "execution_count": null,
   "id": "43c26798",
   "metadata": {},
   "outputs": [],
   "source": []
  },
  {
   "cell_type": "code",
   "execution_count": null,
   "id": "00ad1831",
   "metadata": {},
   "outputs": [],
   "source": []
  },
  {
   "cell_type": "code",
   "execution_count": null,
   "id": "162999f0",
   "metadata": {},
   "outputs": [],
   "source": []
  }
 ],
 "metadata": {
  "kernelspec": {
   "display_name": "Python 3 (ipykernel)",
   "language": "python",
   "name": "python3"
  },
  "language_info": {
   "codemirror_mode": {
    "name": "ipython",
    "version": 3
   },
   "file_extension": ".py",
   "mimetype": "text/x-python",
   "name": "python",
   "nbconvert_exporter": "python",
   "pygments_lexer": "ipython3",
   "version": "3.9.13"
  }
 },
 "nbformat": 4,
 "nbformat_minor": 5
}
